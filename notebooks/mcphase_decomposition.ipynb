{
 "cells": [
  {
   "cell_type": "markdown",
   "metadata": {},
   "source": [
    "We check the decomposition of a multi-controlled phase gate with arbitrary $\\theta$ obtained via ZX calculus. The decomposition has 1-norm equal to $3$, which is sub-optimal."
   ]
  },
  {
   "cell_type": "code",
   "execution_count": 2,
   "metadata": {},
   "outputs": [],
   "source": [
    "import numpy as np\n",
    "from util import return_ptm"
   ]
  },
  {
   "cell_type": "code",
   "execution_count": 3,
   "metadata": {},
   "outputs": [],
   "source": [
    "def apply_mcphase_theta(op: np.ndarray, params: dict):\n",
    "    n = int(np.log2(op.shape[1]))\n",
    "    if op.shape[1] != 2**n:\n",
    "        raise ValueError(\"Matrix shape error: the matrix dimension must be a power of 2\")\n",
    "    theta = params[\"theta\"]\n",
    "    mcphase = np.identity(2**n, dtype=complex)\n",
    "    mcphase[-1, -1] = np.exp(1j*theta)\n",
    "    return mcphase@op@mcphase.conj().T \n",
    "\n",
    "def apply_mcphase_ancilla_measurement_y(op: np.ndarray, params=dict):\n",
    "    n = int(np.log2(op.shape[1]))\n",
    "    if op.shape[1] != 2**n:\n",
    "        raise ValueError(\"Matrix shape error: the matrix dimension must be a power of 2\")\n",
    "    ancilla_state = 1/np.sqrt(2)*np.array([[1], [1]])\n",
    "    rho_plus_i = 1/2*np.array([[1, -1j], [1j, 1]])\n",
    "    rho_minus_i = 1/2*np.array([[1, 1j], [-1j, 1]])\n",
    "    rho_ancilla_state = ancilla_state@ancilla_state.conj().T\n",
    "    op_with_ancilla = np.kron(op, rho_ancilla_state)\n",
    "    op_with_ancilla_mcz = apply_mcphase_theta(op_with_ancilla, {\"theta\": params[\"theta\"]})\n",
    "    proj_plus_i = np.kron(np.identity(2**n), rho_plus_i)\n",
    "    proj_minus_i = np.kron(np.identity(2**n), rho_minus_i)\n",
    "    op_proj_plus_i = proj_plus_i@op_with_ancilla_mcz@proj_plus_i\n",
    "    op_proj_minus_i = proj_minus_i@op_with_ancilla_mcz@proj_minus_i \n",
    "    op_plus_i_trace = np.trace(op_proj_plus_i.reshape(2**n , 2, 2**n, 2), axis1=1, axis2=3)\n",
    "    op_minus_i_trace = np.trace(op_proj_minus_i.reshape(2**n , 2, 2**n, 2), axis1=1, axis2=3)\n",
    "    # op_trace = np.trace(op_with_ancilla_mcz.reshape(2**n , 2, 2**n, 2), axis1=1, axis2=3) # only for testing\n",
    "    if params[\"result\"] == 0:\n",
    "        return op_plus_i_trace\n",
    "    elif params[\"result\"] == 1:\n",
    "        return op_minus_i_trace"
   ]
  },
  {
   "cell_type": "markdown",
   "metadata": {},
   "source": [
    "Now let us focus on the case $n=4$ and $m = m' = 2$"
   ]
  },
  {
   "cell_type": "code",
   "execution_count": 4,
   "metadata": {},
   "outputs": [],
   "source": [
    "num_qubits = 4\n",
    "m = 2\n",
    "m_prime = num_qubits - m\n",
    "theta = np.pi/6"
   ]
  },
  {
   "cell_type": "code",
   "execution_count": 5,
   "metadata": {},
   "outputs": [],
   "source": [
    "target_ptm_mcphase = return_ptm(apply_mcphase_theta, num_qubits, params={\"theta\": theta})"
   ]
  },
  {
   "cell_type": "markdown",
   "metadata": {},
   "source": [
    "Now we obtain the PTMs for each term in the decomposition\n",
    "1. $Y$-term (requires classical communication)"
   ]
  },
  {
   "cell_type": "code",
   "execution_count": 6,
   "metadata": {},
   "outputs": [],
   "source": [
    "deco_dict = {}\n",
    "deco_dict[\"1\"] = {}\n",
    "deco_dict[\"1\"][\"q\"] = 1\n",
    "deco_dict[\"1\"][\"ptm\"] = np.kron(return_ptm(apply_mcphase_theta, m, params={\"theta\": np.pi/2}), return_ptm(apply_mcphase_ancilla_measurement_y, m_prime, params={\"theta\": theta, \"result\": 0})) \n",
    "deco_dict[\"1\"][\"ptm\"] += np.kron(return_ptm(apply_mcphase_theta, m, params={\"theta\": -np.pi/2}), return_ptm(apply_mcphase_ancilla_measurement_y, m_prime, params={\"theta\": theta, \"result\": 1}))"
   ]
  },
  {
   "cell_type": "markdown",
   "metadata": {},
   "source": [
    "2. $\\mathcal{E}_{\\mathrm{MCZ}-\\ket{\\pm}_a}^{(m)} \\otimes \\mathcal{I}^{\\otimes m'} $"
   ]
  },
  {
   "cell_type": "code",
   "execution_count": 7,
   "metadata": {},
   "outputs": [],
   "source": [
    "def apply_mcphase_ancilla_measurement_x(op: np.ndarray, params=dict):\n",
    "    n = int(np.log2(op.shape[1]))\n",
    "    if op.shape[1] != 2**n:\n",
    "        raise ValueError(\"Matrix shape error: the matrix dimension must be a power of 2\")\n",
    "    ancilla_state = 1/np.sqrt(2)*np.array([[1], [1]])\n",
    "    rho_plus = 1/2*np.array([[1, 1], [1, 1]])\n",
    "    rho_minus = 1/2*np.array([[1, -1], [-1, 1]])\n",
    "    rho_ancilla_state = ancilla_state@ancilla_state.conj().T\n",
    "    op_with_ancilla = np.kron(op, rho_ancilla_state)\n",
    "    op_with_ancilla_mcz = apply_mcphase_theta(op_with_ancilla, {\"theta\": params[\"theta\"]})\n",
    "    proj_plus = np.kron(np.identity(2**n), rho_plus)\n",
    "    proj_minus = np.kron(np.identity(2**n), rho_minus)\n",
    "    op_proj_plus = proj_plus@op_with_ancilla_mcz@proj_plus\n",
    "    op_proj_minus = proj_minus@op_with_ancilla_mcz@proj_minus \n",
    "    op_plus_trace = np.trace(op_proj_plus.reshape(2**n , 2, 2**n, 2), axis1=1, axis2=3)\n",
    "    op_minus_trace = np.trace(op_proj_minus.reshape(2**n , 2, 2**n, 2), axis1=1, axis2=3)\n",
    "    # op_trace = np.trace(op_with_ancilla_mcz.reshape(2**n , 2, 2**n, 2), axis1=1, axis2=3) # only for testing\n",
    "    return op_plus_trace - op_minus_trace\n",
    "    \n",
    "    "
   ]
  },
  {
   "cell_type": "code",
   "execution_count": 8,
   "metadata": {},
   "outputs": [],
   "source": [
    "deco_dict[\"2\"] = {}\n",
    "deco_dict[\"2\"][\"q\"] = 1/2\n",
    "deco_dict[\"2\"][\"ptm\"] = np.kron(return_ptm(apply_mcphase_ancilla_measurement_x, m, params={\"theta\": np.pi}), return_ptm(apply_mcphase_theta, m_prime, params={\"theta\": 2*np.pi}))"
   ]
  },
  {
   "cell_type": "markdown",
   "metadata": {},
   "source": [
    "3. $\\mathcal{E}_{\\mathrm{MCZ}-\\ket{\\pm}_a}^{(m)} \\otimes \\mathcal{MCP}^{( m')}(\\theta) $"
   ]
  },
  {
   "cell_type": "code",
   "execution_count": 9,
   "metadata": {},
   "outputs": [],
   "source": [
    "deco_dict[\"3\"] = {} \n",
    "deco_dict[\"3\"][\"q\"] = -1/2\n",
    "deco_dict[\"3\"][\"ptm\"] = np.kron(return_ptm(apply_mcphase_ancilla_measurement_x, m, params={\"theta\": np.pi}), return_ptm(apply_mcphase_theta, m_prime, params={\"theta\": theta}))"
   ]
  },
  {
   "cell_type": "markdown",
   "metadata": {},
   "source": [
    "4. $\\mathcal{I}^{\\otimes m} \\otimes \\mathcal{E}_{\\mathrm{MCP}(\\theta)-\\ket{\\pm}_a}^{(m')}$"
   ]
  },
  {
   "cell_type": "code",
   "execution_count": 10,
   "metadata": {},
   "outputs": [],
   "source": [
    "deco_dict[\"4\"] = {}\n",
    "deco_dict[\"4\"][\"q\"] = 1/2\n",
    "deco_dict[\"4\"][\"ptm\"] = np.kron(return_ptm(apply_mcphase_theta, m, params={\"theta\": 2*np.pi}), return_ptm(apply_mcphase_ancilla_measurement_x, m_prime, params={\"theta\": theta}))"
   ]
  },
  {
   "cell_type": "markdown",
   "metadata": {},
   "source": [
    "5.  $\\mathcal{MCZ}^{(m)}\\otimes \\mathcal{E}_{\\mathrm{MCP}(\\theta)-\\ket{\\pm}_a}^{(m')} $"
   ]
  },
  {
   "cell_type": "code",
   "execution_count": 11,
   "metadata": {},
   "outputs": [],
   "source": [
    "deco_dict[\"5\"] = {}\n",
    "deco_dict[\"5\"][\"q\"] = -1/2\n",
    "deco_dict[\"5\"][\"ptm\"] =  np.kron(return_ptm(apply_mcphase_theta, m, params={\"theta\": np.pi}), return_ptm(apply_mcphase_ancilla_measurement_x, m_prime, params={\"theta\": theta}))"
   ]
  },
  {
   "cell_type": "code",
   "execution_count": 12,
   "metadata": {},
   "outputs": [],
   "source": [
    "cut = sum([deco_dict[key][\"q\"]*deco_dict[key][\"ptm\"] for key in deco_dict.keys()])"
   ]
  },
  {
   "cell_type": "code",
   "execution_count": 13,
   "metadata": {},
   "outputs": [
    {
     "data": {
      "text/plain": [
       "np.float64(4.440892098500626e-16)"
      ]
     },
     "execution_count": 13,
     "metadata": {},
     "output_type": "execute_result"
    }
   ],
   "source": [
    "np.max(np.abs(target_ptm_mcphase - cut))"
   ]
  },
  {
   "cell_type": "markdown",
   "metadata": {},
   "source": [
    "which shows that the decomposition is correct!"
   ]
  },
  {
   "cell_type": "markdown",
   "metadata": {},
   "source": []
  }
 ],
 "metadata": {
  "kernelspec": {
   "display_name": "base",
   "language": "python",
   "name": "python3"
  },
  "language_info": {
   "codemirror_mode": {
    "name": "ipython",
    "version": 3
   },
   "file_extension": ".py",
   "mimetype": "text/x-python",
   "name": "python",
   "nbconvert_exporter": "python",
   "pygments_lexer": "ipython3",
   "version": "3.12.9"
  }
 },
 "nbformat": 4,
 "nbformat_minor": 2
}
