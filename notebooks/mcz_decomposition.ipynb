{
 "cells": [
  {
   "cell_type": "markdown",
   "metadata": {},
   "source": [
    "We check the decomposition of a multi-controlled Z gate obtained via ZX calculus (Table III in M. Schumann et al \"Bridging wire and gate cutting with ZX-calculus\" (2025))"
   ]
  },
  {
   "cell_type": "code",
   "execution_count": 2,
   "metadata": {},
   "outputs": [],
   "source": [
    "import numpy as np\n",
    "from util import return_ptm"
   ]
  },
  {
   "cell_type": "code",
   "execution_count": 3,
   "metadata": {},
   "outputs": [],
   "source": [
    "def apply_mcphase_theta(op: np.ndarray, params: dict):\n",
    "    n = int(np.log2(op.shape[1]))\n",
    "    if op.shape[1] != 2**n:\n",
    "        raise ValueError(\"Matrix shape error: the matrix dimension must be a power of 2\")\n",
    "    theta = params[\"theta\"]\n",
    "    mcphase = np.identity(2**n, dtype=complex)\n",
    "    mcphase[-1, -1] = np.exp(1j*theta)\n",
    "    return mcphase@op@mcphase.conj().T "
   ]
  },
  {
   "cell_type": "markdown",
   "metadata": {},
   "source": [
    "Now let us focus on the case $n=4$ and $m = m' = 2$"
   ]
  },
  {
   "cell_type": "code",
   "execution_count": 4,
   "metadata": {},
   "outputs": [],
   "source": [
    "num_qubits = 4\n",
    "m = 2\n",
    "m_prime = num_qubits - m"
   ]
  },
  {
   "cell_type": "code",
   "execution_count": 5,
   "metadata": {},
   "outputs": [],
   "source": [
    "target_ptm_mcz = return_ptm(apply_mcphase_theta, num_qubits, params={\"theta\": np.pi})"
   ]
  },
  {
   "cell_type": "markdown",
   "metadata": {},
   "source": [
    "Now we obtain the PTMs for each term in the decomposition\n",
    "1. $\\mathcal{MCP}^{(m)}(\\pi/2) \\otimes \\mathcal{MCP}^{(m')}(\\pi/2)$"
   ]
  },
  {
   "cell_type": "code",
   "execution_count": 6,
   "metadata": {},
   "outputs": [],
   "source": [
    "deco_dict = {}\n",
    "deco_dict[\"1\"] = {}\n",
    "deco_dict[\"1\"][\"q\"] = 1/2\n",
    "deco_dict[\"1\"][\"ptm\"] = np.kron(return_ptm(apply_mcphase_theta, m, params={\"theta\": np.pi/2}), return_ptm(apply_mcphase_theta, m_prime, params={\"theta\": np.pi/2}))"
   ]
  },
  {
   "cell_type": "markdown",
   "metadata": {},
   "source": [
    "2. $\\mathcal{MCP}^{(m)}(-\\pi/2) \\otimes \\mathcal{MCP}^{m'}(-\\pi/2)$"
   ]
  },
  {
   "cell_type": "code",
   "execution_count": 7,
   "metadata": {},
   "outputs": [],
   "source": [
    "deco_dict[\"2\"] = {}\n",
    "deco_dict[\"2\"][\"q\"] = 1/2\n",
    "deco_dict[\"2\"][\"ptm\"] = np.kron(return_ptm(apply_mcphase_theta, m, params={\"theta\": -np.pi/2}), return_ptm(apply_mcphase_theta, m_prime, params={\"theta\": -np.pi/2}))"
   ]
  },
  {
   "cell_type": "markdown",
   "metadata": {},
   "source": [
    "3. $\\mathcal{E}_{\\mathrm{MCZ}-\\ket{\\pm}_a}^{(m)} \\otimes \\mathcal{I}^{\\otimes m'} $"
   ]
  },
  {
   "cell_type": "code",
   "execution_count": null,
   "metadata": {},
   "outputs": [],
   "source": [
    "def apply_mcz_ancilla_measurement(op: np.ndarray, params=None):\n",
    "    n = int(np.log2(op.shape[1]))\n",
    "    if op.shape[1] != 2**n:\n",
    "        raise ValueError(\"Matrix shape error: the matrix dimension must be a power of 2\")\n",
    "    ancilla_state = 1/np.sqrt(2)*np.array([[1], [1]])\n",
    "    rho_plus = 1/2*np.array([[1, 1], [1, 1]])\n",
    "    rho_minus = 1/2*np.array([[1, -1], [-1, 1]])\n",
    "    rho_ancilla_state = ancilla_state@ancilla_state.conj().T\n",
    "    op_with_ancilla = np.kron(op, rho_ancilla_state)\n",
    "    op_with_ancilla_mcz = apply_mcphase_theta(op_with_ancilla, {\"theta\": np.pi})\n",
    "    proj_plus = np.kron(np.identity(2**n), rho_plus)\n",
    "    proj_minus = np.kron(np.identity(2**n), rho_minus)\n",
    "    op_proj_plus = proj_plus@op_with_ancilla_mcz@proj_plus\n",
    "    op_proj_minus = proj_minus@op_with_ancilla_mcz@proj_minus \n",
    "    op_plus_trace = np.trace(op_proj_plus.reshape(2**n , 2, 2**n, 2), axis1=1, axis2=3)\n",
    "    op_minus_trace = np.trace(op_proj_minus.reshape(2**n , 2, 2**n, 2), axis1=1, axis2=3)\n",
    "    return op_plus_trace - op_minus_trace\n",
    "    \n",
    "    "
   ]
  },
  {
   "cell_type": "code",
   "execution_count": 9,
   "metadata": {},
   "outputs": [],
   "source": [
    "deco_dict[\"3\"] = {}\n",
    "deco_dict[\"3\"][\"q\"] = 1/2\n",
    "deco_dict[\"3\"][\"ptm\"] = np.kron(return_ptm(apply_mcz_ancilla_measurement, m, params=None), return_ptm(apply_mcphase_theta, m_prime, params={\"theta\": 2*np.pi}))"
   ]
  },
  {
   "cell_type": "markdown",
   "metadata": {},
   "source": [
    "4. $\\mathcal{E}_{\\mathrm{MCZ}-\\ket{\\pm}_a}^{(m)} \\otimes \\mathcal{MCZ}^{( m')} $"
   ]
  },
  {
   "cell_type": "code",
   "execution_count": 10,
   "metadata": {},
   "outputs": [],
   "source": [
    "deco_dict[\"4\"] = {}\n",
    "deco_dict[\"4\"][\"q\"] = -1/2\n",
    "deco_dict[\"4\"][\"ptm\"] = np.kron(return_ptm(apply_mcz_ancilla_measurement, m, params=None), return_ptm(apply_mcphase_theta, m_prime, params={\"theta\": np.pi}))"
   ]
  },
  {
   "cell_type": "markdown",
   "metadata": {},
   "source": [
    "5. $\\mathcal{I}^{\\otimes m} \\otimes \\mathcal{E}_{\\mathrm{MCZ}-\\ket{\\pm}_a}^{(m')}$"
   ]
  },
  {
   "cell_type": "code",
   "execution_count": 11,
   "metadata": {},
   "outputs": [],
   "source": [
    "deco_dict[\"5\"] = {}\n",
    "deco_dict[\"5\"][\"q\"] = 1/2\n",
    "deco_dict[\"5\"][\"ptm\"] = np.kron(return_ptm(apply_mcphase_theta, m, params={\"theta\": 2*np.pi}), return_ptm(apply_mcz_ancilla_measurement, m_prime, params=None))"
   ]
  },
  {
   "cell_type": "markdown",
   "metadata": {},
   "source": [
    "6. $\\mathcal{MCZ}^{(m)}\\otimes \\mathcal{E}_{\\mathrm{MCZ}-\\ket{\\pm}_a}^{(m')} $"
   ]
  },
  {
   "cell_type": "code",
   "execution_count": 12,
   "metadata": {},
   "outputs": [],
   "source": [
    "deco_dict[\"6\"] = {}\n",
    "deco_dict[\"6\"][\"q\"] = -1/2\n",
    "deco_dict[\"6\"][\"ptm\"] =  np.kron(return_ptm(apply_mcphase_theta, m, params={\"theta\": np.pi}), return_ptm(apply_mcz_ancilla_measurement, m_prime, params=None))"
   ]
  },
  {
   "cell_type": "code",
   "execution_count": 13,
   "metadata": {},
   "outputs": [],
   "source": [
    "cut = sum([deco_dict[key][\"q\"]*deco_dict[key][\"ptm\"] for key in deco_dict.keys()])"
   ]
  },
  {
   "cell_type": "code",
   "execution_count": 14,
   "metadata": {},
   "outputs": [
    {
     "data": {
      "text/plain": [
       "np.float64(1.1102230246251565e-16)"
      ]
     },
     "execution_count": 14,
     "metadata": {},
     "output_type": "execute_result"
    }
   ],
   "source": [
    "np.max(np.abs(target_ptm_mcz - cut))"
   ]
  },
  {
   "cell_type": "markdown",
   "metadata": {},
   "source": [
    "which shows that the decomposition is correct!"
   ]
  },
  {
   "cell_type": "markdown",
   "metadata": {},
   "source": []
  }
 ],
 "metadata": {
  "kernelspec": {
   "display_name": "base",
   "language": "python",
   "name": "python3"
  },
  "language_info": {
   "codemirror_mode": {
    "name": "ipython",
    "version": 3
   },
   "file_extension": ".py",
   "mimetype": "text/x-python",
   "name": "python",
   "nbconvert_exporter": "python",
   "pygments_lexer": "ipython3",
   "version": "3.12.8"
  }
 },
 "nbformat": 4,
 "nbformat_minor": 2
}
