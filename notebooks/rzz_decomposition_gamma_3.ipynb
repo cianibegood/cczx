{
 "cells": [
  {
   "cell_type": "markdown",
   "metadata": {},
   "source": [
    "We check the decomposition of the two-qubit ZZ rotation obtained via ZX calculus with $\\gamma=3$ (Table IV in in M. Schumann et al \"Bridging wire and gate cutting with ZX-calculus\" (2025))."
   ]
  },
  {
   "cell_type": "code",
   "execution_count": 10,
   "metadata": {},
   "outputs": [],
   "source": [
    "import numpy as np\n",
    "import scipy\n",
    "from util import return_ptm"
   ]
  },
  {
   "cell_type": "code",
   "execution_count": 11,
   "metadata": {},
   "outputs": [],
   "source": [
    "def apply_rzz_theta(op: np.ndarray, params: dict):\n",
    "    if op.shape[1] != 4:\n",
    "        raise ValueError(\"Matrix shape error: the matrix should be 4x4\")\n",
    "    pauli_z = np.array([[1, 0], [0, -1]])\n",
    "    theta = params[\"theta\"]\n",
    "    pauli_zz = np.kron(pauli_z, pauli_z)\n",
    "    rzz = scipy.linalg.expm(-1j*theta*pauli_zz/2)\n",
    "    return rzz@op@rzz.conj().T\n",
    "\n",
    "def apply_rz_theta(op: np.ndarray, params: dict):\n",
    "    if op.shape[1] != 2:\n",
    "        raise ValueError(\"Matrix shape error: the matrix should be 2x2\")\n",
    "    pauli_z = np.array([[1, 0], [0, -1]])\n",
    "    theta = params[\"theta\"]\n",
    "    rz = scipy.linalg.expm(-1j*theta*pauli_z/2)\n",
    "    return rz@op@rz.conj().T"
   ]
  },
  {
   "cell_type": "code",
   "execution_count": 12,
   "metadata": {},
   "outputs": [],
   "source": [
    "num_qubits = 2\n",
    "m = 1\n",
    "m_prime = num_qubits - 1\n",
    "theta = np.pi*6/5"
   ]
  },
  {
   "cell_type": "code",
   "execution_count": 13,
   "metadata": {},
   "outputs": [],
   "source": [
    "target_ptm_rzz_theta = return_ptm(apply_rzz_theta, 2, params={\"theta\": theta})"
   ]
  },
  {
   "cell_type": "markdown",
   "metadata": {},
   "source": [
    "Now we obtain the PTMs for each term in the decomposition\n",
    "1. $\\mathcal{I} \\otimes \\mathcal{I}$"
   ]
  },
  {
   "cell_type": "code",
   "execution_count": 15,
   "metadata": {},
   "outputs": [],
   "source": [
    "deco_dict = {}\n",
    "deco_dict[\"1\"] = {}\n",
    "deco_dict[\"1\"][\"q\"] = 1/2*(1 + np.cos(theta))\n",
    "deco_dict[\"1\"][\"ptm\"] = np.kron(return_ptm(apply_rz_theta, m, params={\"theta\": 0.0}), return_ptm(apply_rz_theta, m_prime, params={\"theta\": 0.0}))"
   ]
  },
  {
   "cell_type": "markdown",
   "metadata": {},
   "source": [
    "2. $\\mathcal{R}_{Z}(\\pi) \\otimes \\mathcal{R}_{Z}(\\pi)$"
   ]
  },
  {
   "cell_type": "code",
   "execution_count": 16,
   "metadata": {},
   "outputs": [],
   "source": [
    "deco_dict[\"2\"] = {}\n",
    "deco_dict[\"2\"][\"q\"] = 1/2*(1 - np.cos(theta))\n",
    "deco_dict[\"2\"][\"ptm\"] = np.kron(return_ptm(apply_rz_theta, m, params={\"theta\": np.pi}), return_ptm(apply_rz_theta, m_prime, params={\"theta\": np.pi}))"
   ]
  },
  {
   "cell_type": "markdown",
   "metadata": {},
   "source": [
    "3. $\\mathcal{R}_{Z} \\left( \\frac{\\pi}{2} \\right) \\otimes \\mathcal{E}_{\\mathcal{R}_{ZZ}(\\theta)-\\ket{\\pm i}_a}$"
   ]
  },
  {
   "cell_type": "code",
   "execution_count": 18,
   "metadata": {},
   "outputs": [],
   "source": [
    "def apply_rzz_theta_ancilla_measurement(op: np.ndarray, params: dict):\n",
    "    if op.shape[1] != 2:\n",
    "        raise ValueError(\"Matrix shape error: the matrix dimension must be a power of 2\")\n",
    "    theta = params[\"theta\"]\n",
    "    ancilla_state = 1/np.sqrt(2)*np.array([[1], [1]])\n",
    "    rho_plus_i = 1/2*np.array([[1, -1j], [1j, 1]])\n",
    "    rho_minus_i = 1/2*np.array([[1, 1j], [-1j, 1]])\n",
    "    rho_ancilla_state = ancilla_state@ancilla_state.conj().T\n",
    "    op_with_ancilla = np.kron(op, rho_ancilla_state)\n",
    "    op_with_ancilla_rzz_theta = apply_rzz_theta(op_with_ancilla, {\"theta\": theta})\n",
    "    proj_plus_i = np.kron(np.identity(2), rho_plus_i)\n",
    "    proj_minus_i = np.kron(np.identity(2), rho_minus_i)\n",
    "    op_proj_plus_i = proj_plus_i@op_with_ancilla_rzz_theta@proj_plus_i\n",
    "    op_proj_minus_i = proj_minus_i@op_with_ancilla_rzz_theta@proj_minus_i \n",
    "    op_plus_trace = np.trace(op_proj_plus_i.reshape(2 , 2, 2, 2), axis1=1, axis2=3)\n",
    "    op_minus_trace = np.trace(op_proj_minus_i.reshape(2 , 2, 2, 2), axis1=1, axis2=3)\n",
    "    # op_trace = np.trace(op_with_ancilla_mcz.reshape(2**n , 2, 2**n, 2), axis1=1, axis2=3) # only for testing\n",
    "    return op_plus_trace - op_minus_trace\n",
    "    \n",
    "    "
   ]
  },
  {
   "cell_type": "code",
   "execution_count": 19,
   "metadata": {},
   "outputs": [],
   "source": [
    "deco_dict[\"3\"] = {}\n",
    "deco_dict[\"3\"][\"q\"] = 1/2\n",
    "deco_dict[\"3\"][\"ptm\"] = np.kron(return_ptm(apply_rz_theta, m, params={\"theta\": np.pi/2}), return_ptm(apply_rzz_theta_ancilla_measurement, m_prime, params={\"theta\": theta}))"
   ]
  },
  {
   "cell_type": "markdown",
   "metadata": {},
   "source": [
    "4. $\\mathcal{R}_{Z} \\left(-\\frac{\\pi}{2} \\right) \\otimes \\mathcal{E}_{\\mathcal{R}_{ZZ}(\\theta)-\\ket{\\pm i}_a} $"
   ]
  },
  {
   "cell_type": "code",
   "execution_count": 20,
   "metadata": {},
   "outputs": [],
   "source": [
    "deco_dict[\"4\"] = {}\n",
    "deco_dict[\"4\"][\"q\"] = -1/2\n",
    "deco_dict[\"4\"][\"ptm\"] = np.kron(return_ptm(apply_rz_theta, m, params={\"theta\": -np.pi/2}), return_ptm(apply_rzz_theta_ancilla_measurement, m_prime, params={\"theta\": theta}))"
   ]
  },
  {
   "cell_type": "markdown",
   "metadata": {},
   "source": [
    "5. $\\mathcal{\\overline{E}}_Z \\otimes \\mathcal{R}_Z(\\theta)$"
   ]
  },
  {
   "cell_type": "code",
   "execution_count": 22,
   "metadata": {},
   "outputs": [],
   "source": [
    "def apply_measure_and_prepare_z(op: np.ndarray, params=None):\n",
    "    if op.shape[1] != 2:\n",
    "        raise ValueError(\"Matrix shape error: the matrix should be 2x2\")\n",
    "    rho_0 = np.array([[1, 0], [0, 0]])\n",
    "    rho_1 = np.array([[0, 0], [0, 1]])\n",
    "    return rho_0*np.trace(rho_0@op) - rho_1*np.trace(rho_1@op)\n",
    "    "
   ]
  },
  {
   "cell_type": "code",
   "execution_count": 23,
   "metadata": {},
   "outputs": [],
   "source": [
    "deco_dict[\"5\"] = {}\n",
    "deco_dict[\"5\"][\"q\"] = 1/2\n",
    "deco_dict[\"5\"][\"ptm\"] = np.kron(return_ptm(apply_measure_and_prepare_z, m, params=None), return_ptm(apply_rz_theta, m_prime, params={\"theta\": theta}))"
   ]
  },
  {
   "cell_type": "markdown",
   "metadata": {},
   "source": [
    "6. $\\mathcal{\\overline{E}}_Z \\otimes \\mathcal{R}_Z(-\\theta)$"
   ]
  },
  {
   "cell_type": "code",
   "execution_count": 24,
   "metadata": {},
   "outputs": [],
   "source": [
    "deco_dict[\"6\"] = {}\n",
    "deco_dict[\"6\"][\"q\"] = -1/2\n",
    "deco_dict[\"6\"][\"ptm\"] = np.kron(return_ptm(apply_measure_and_prepare_z, m, params=None), return_ptm(apply_rz_theta, m_prime, params={\"theta\": -theta}))"
   ]
  },
  {
   "cell_type": "code",
   "execution_count": 25,
   "metadata": {},
   "outputs": [],
   "source": [
    "cut = sum([deco_dict[key][\"q\"]*deco_dict[key][\"ptm\"] for key in deco_dict.keys()])"
   ]
  },
  {
   "cell_type": "code",
   "execution_count": 26,
   "metadata": {},
   "outputs": [
    {
     "data": {
      "text/plain": [
       "np.float64(5.551115123125783e-16)"
      ]
     },
     "execution_count": 26,
     "metadata": {},
     "output_type": "execute_result"
    }
   ],
   "source": [
    "np.max(np.abs(target_ptm_rzz_theta - cut))"
   ]
  },
  {
   "cell_type": "markdown",
   "metadata": {},
   "source": [
    "which shows that the decomposition is correct!"
   ]
  },
  {
   "cell_type": "markdown",
   "metadata": {},
   "source": []
  }
 ],
 "metadata": {
  "kernelspec": {
   "display_name": "base",
   "language": "python",
   "name": "python3"
  },
  "language_info": {
   "codemirror_mode": {
    "name": "ipython",
    "version": 3
   },
   "file_extension": ".py",
   "mimetype": "text/x-python",
   "name": "python",
   "nbconvert_exporter": "python",
   "pygments_lexer": "ipython3",
   "version": "3.12.9"
  }
 },
 "nbformat": 4,
 "nbformat_minor": 2
}
