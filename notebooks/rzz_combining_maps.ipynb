{
 "cells": [
  {
   "cell_type": "markdown",
   "metadata": {},
   "source": [
    "We show how the maps in the decomposition with $\\gamma = 3$ can be combined in order to remove ancillas and decrease the 1-norm "
   ]
  },
  {
   "cell_type": "code",
   "execution_count": 1,
   "metadata": {},
   "outputs": [],
   "source": [
    "import numpy as np\n",
    "import scipy\n",
    "from util import return_ptm"
   ]
  },
  {
   "cell_type": "code",
   "execution_count": 2,
   "metadata": {},
   "outputs": [],
   "source": [
    "def apply_rzz_theta(op: np.ndarray, params: dict):\n",
    "    if op.shape[1] != 4:\n",
    "        raise ValueError(\"Matrix shape error: the matrix should be 4x4\")\n",
    "    pauli_z = np.array([[1, 0], [0, -1]])\n",
    "    theta = params[\"theta\"]\n",
    "    pauli_zz = np.kron(pauli_z, pauli_z)\n",
    "    rzz = scipy.linalg.expm(-1j*theta*pauli_zz/2)\n",
    "    return rzz@op@rzz.conj().T\n",
    "\n",
    "def apply_rz_theta(op: np.ndarray, params: dict):\n",
    "    if op.shape[1] != 2:\n",
    "        raise ValueError(\"Matrix shape error: the matrix should be 2x2\")\n",
    "    pauli_z = np.array([[1, 0], [0, -1]])\n",
    "    theta = params[\"theta\"]\n",
    "    rz = scipy.linalg.expm(-1j*theta*pauli_z/2)\n",
    "    return rz@op@rz.conj().T"
   ]
  },
  {
   "cell_type": "code",
   "execution_count": 64,
   "metadata": {},
   "outputs": [],
   "source": [
    "num_qubits = 2\n",
    "m = 1\n",
    "m_prime = num_qubits - 1\n",
    "theta = np.pi*7/5 # you can change this value and show that the equalities are always satisfied"
   ]
  },
  {
   "cell_type": "code",
   "execution_count": 65,
   "metadata": {},
   "outputs": [],
   "source": [
    "def apply_rzz_theta_ancilla_measurement(op: np.ndarray, params: dict):\n",
    "    if op.shape[1] != 2:\n",
    "        raise ValueError(\"Matrix shape error: the matrix dimension must be a power of 2\")\n",
    "    theta = params[\"theta\"]\n",
    "    ancilla_state = 1/np.sqrt(2)*np.array([[1], [1]])\n",
    "    rho_plus_i = 1/2*np.array([[1, -1j], [1j, 1]])\n",
    "    rho_minus_i = 1/2*np.array([[1, 1j], [-1j, 1]])\n",
    "    rho_ancilla_state = ancilla_state@ancilla_state.conj().T\n",
    "    op_with_ancilla = np.kron(op, rho_ancilla_state)\n",
    "    op_with_ancilla_rzz_theta = apply_rzz_theta(op_with_ancilla, {\"theta\": theta})\n",
    "    proj_plus_i = np.kron(np.identity(2), rho_plus_i)\n",
    "    proj_minus_i = np.kron(np.identity(2), rho_minus_i)\n",
    "    op_proj_plus_i = proj_plus_i@op_with_ancilla_rzz_theta@proj_plus_i\n",
    "    op_proj_minus_i = proj_minus_i@op_with_ancilla_rzz_theta@proj_minus_i \n",
    "    op_plus_trace = np.trace(op_proj_plus_i.reshape(2 , 2, 2, 2), axis1=1, axis2=3)\n",
    "    op_minus_trace = np.trace(op_proj_minus_i.reshape(2 , 2, 2, 2), axis1=1, axis2=3)\n",
    "    # op_trace = np.trace(op_with_ancilla_mcz.reshape(2**n , 2, 2**n, 2), axis1=1, axis2=3) # only for testing\n",
    "    return op_plus_trace - op_minus_trace\n",
    "\n",
    "def apply_measure_and_prepare_z(op: np.ndarray, params=None):\n",
    "    if op.shape[1] != 2:\n",
    "        raise ValueError(\"Matrix shape error: the matrix should be 2x2\")\n",
    "    rho_0 = np.array([[1, 0], [0, 0]])\n",
    "    rho_1 = np.array([[0, 0], [0, 1]])\n",
    "    return rho_0*np.trace(rho_0@op) - rho_1*np.trace(rho_1@op)\n",
    "    "
   ]
  },
  {
   "cell_type": "markdown",
   "metadata": {},
   "source": [
    "1. $\\mathcal{E}_{R_{ZZ}(\\theta)-|\\pm i \\rangle} = \\sin \\theta \\mathcal{\\overline{E}}_{Z}$"
   ]
  },
  {
   "cell_type": "code",
   "execution_count": 66,
   "metadata": {},
   "outputs": [
    {
     "name": "stdout",
     "output_type": "stream",
     "text": [
      "[[ 0.        +0.j -0.95105652+0.j  0.        +0.j  0.        +0.j]\n",
      " [-0.95105652+0.j  0.        +0.j  0.        +0.j  0.        +0.j]\n",
      " [ 0.        +0.j  0.        +0.j  0.        +0.j  0.        +0.j]\n",
      " [ 0.        +0.j  0.        +0.j  0.        +0.j  0.        +0.j]]\n"
     ]
    }
   ],
   "source": [
    "ptm_rzz_meas_ancilla = return_ptm(apply_rzz_theta_ancilla_measurement, m_prime, params={\"theta\": theta})\n",
    "print(ptm_rzz_meas_ancilla)"
   ]
  },
  {
   "cell_type": "code",
   "execution_count": 67,
   "metadata": {},
   "outputs": [
    {
     "name": "stdout",
     "output_type": "stream",
     "text": [
      "[[0.+0.j 1.+0.j 0.+0.j 0.+0.j]\n",
      " [1.+0.j 0.+0.j 0.+0.j 0.+0.j]\n",
      " [0.+0.j 0.+0.j 0.+0.j 0.+0.j]\n",
      " [0.+0.j 0.+0.j 0.+0.j 0.+0.j]]\n"
     ]
    }
   ],
   "source": [
    "ptm_eps_bar_z = return_ptm(apply_measure_and_prepare_z, m, params=None)\n",
    "print(ptm_eps_bar_z)"
   ]
  },
  {
   "cell_type": "code",
   "execution_count": 68,
   "metadata": {},
   "outputs": [
    {
     "data": {
      "text/plain": [
       "np.float64(2.220446049250313e-16)"
      ]
     },
     "execution_count": 68,
     "metadata": {},
     "output_type": "execute_result"
    }
   ],
   "source": [
    "np.max(np.abs(np.sin(theta)*ptm_eps_bar_z - ptm_rzz_meas_ancilla))"
   ]
  },
  {
   "cell_type": "markdown",
   "metadata": {},
   "source": [
    "as expected!"
   ]
  },
  {
   "cell_type": "markdown",
   "metadata": {},
   "source": [
    "2. $\\mathcal{R}_{Z}(\\theta) - \\mathcal{R}_Z(-\\theta) = \\sin(\\theta) (\\mathcal{R}_{Z}(\\pi/2) - \\mathcal{R}_Z(-\\pi/2))$ "
   ]
  },
  {
   "cell_type": "code",
   "execution_count": 69,
   "metadata": {},
   "outputs": [],
   "source": [
    "def apply_rz_theta(op: np.ndarray, params: dict):\n",
    "    if op.shape[1] != 2:\n",
    "        raise ValueError(\"Matrix shape error: the matrix should be 2x2\")\n",
    "    pauli_z = np.array([[1, 0], [0, -1]])\n",
    "    theta = params[\"theta\"]\n",
    "    rz = scipy.linalg.expm(-1j*theta*pauli_z/2)\n",
    "    return rz@op@rz.conj().T"
   ]
  },
  {
   "cell_type": "code",
   "execution_count": 70,
   "metadata": {},
   "outputs": [],
   "source": [
    "ptm_rz_plus_theta = return_ptm(apply_rz_theta, m, params={\"theta\": theta})\n",
    "ptm_rz_minus_theta = return_ptm(apply_rz_theta, m, params={\"theta\": -theta})\n",
    "ptm_rz_plus_pi_half = return_ptm(apply_rz_theta, m, params={\"theta\": np.pi/2})\n",
    "ptm_rz_minus_pi_half = return_ptm(apply_rz_theta, m, params={\"theta\": -np.pi/2})"
   ]
  },
  {
   "cell_type": "code",
   "execution_count": 71,
   "metadata": {},
   "outputs": [],
   "source": [
    "ptm_a = ptm_rz_plus_theta - ptm_rz_minus_theta"
   ]
  },
  {
   "cell_type": "code",
   "execution_count": 72,
   "metadata": {},
   "outputs": [],
   "source": [
    "ptm_b = ptm_rz_plus_pi_half - ptm_rz_minus_pi_half"
   ]
  },
  {
   "cell_type": "code",
   "execution_count": 73,
   "metadata": {},
   "outputs": [
    {
     "data": {
      "text/plain": [
       "np.float64(2.220446049250313e-16)"
      ]
     },
     "execution_count": 73,
     "metadata": {},
     "output_type": "execute_result"
    }
   ],
   "source": [
    "np.max(np.abs(ptm_a - np.sin(theta)*ptm_b))"
   ]
  },
  {
   "cell_type": "markdown",
   "metadata": {},
   "source": [
    "as expected!"
   ]
  },
  {
   "cell_type": "markdown",
   "metadata": {},
   "source": []
  },
  {
   "cell_type": "markdown",
   "metadata": {},
   "source": []
  }
 ],
 "metadata": {
  "kernelspec": {
   "display_name": "base",
   "language": "python",
   "name": "python3"
  },
  "language_info": {
   "codemirror_mode": {
    "name": "ipython",
    "version": 3
   },
   "file_extension": ".py",
   "mimetype": "text/x-python",
   "name": "python",
   "nbconvert_exporter": "python",
   "pygments_lexer": "ipython3",
   "version": "3.12.9"
  }
 },
 "nbformat": 4,
 "nbformat_minor": 2
}
