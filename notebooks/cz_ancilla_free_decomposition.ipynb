{
 "cells": [
  {
   "cell_type": "markdown",
   "metadata": {},
   "source": [
    "We check the ancilla-free decomposition of a CZ gate obtained via ZX calculus (Table VI in M. Schumann et al \"Bridging wire and gate cutting with ZX-calculus\" (2025))"
   ]
  },
  {
   "cell_type": "code",
   "execution_count": 17,
   "metadata": {},
   "outputs": [],
   "source": [
    "import numpy as np\n",
    "from util import return_ptm"
   ]
  },
  {
   "cell_type": "code",
   "execution_count": 18,
   "metadata": {},
   "outputs": [],
   "source": [
    "def apply_mcphase_theta(op: np.ndarray, params: dict):\n",
    "    n = int(np.log2(op.shape[1]))\n",
    "    if op.shape[1] != 2**n:\n",
    "        raise ValueError(\"Matrix shape error: the matrix dimension must be a power of 2\")\n",
    "    theta = params[\"theta\"]\n",
    "    mcphase = np.identity(2**n, dtype=complex)\n",
    "    mcphase[-1, -1] = np.exp(1j*theta)\n",
    "    return mcphase@op@mcphase.conj().T "
   ]
  },
  {
   "cell_type": "code",
   "execution_count": 19,
   "metadata": {},
   "outputs": [],
   "source": [
    "num_qubits = 2\n",
    "m = 1\n",
    "m_prime = num_qubits - m"
   ]
  },
  {
   "cell_type": "code",
   "execution_count": 20,
   "metadata": {},
   "outputs": [],
   "source": [
    "target_ptm_cz = return_ptm(apply_mcphase_theta, num_qubits, params={\"theta\": np.pi})"
   ]
  },
  {
   "cell_type": "markdown",
   "metadata": {},
   "source": [
    "Now we obtain the PTMs for each term in the decomposition\n",
    "1. $\\mathcal{R}_Z(\\pi/2) \\otimes \\mathcal{R}_Z(\\pi/2)$"
   ]
  },
  {
   "cell_type": "code",
   "execution_count": 21,
   "metadata": {},
   "outputs": [],
   "source": [
    "deco_dict = {}\n",
    "deco_dict[\"1\"] = {}\n",
    "deco_dict[\"1\"][\"q\"] = 1/2\n",
    "deco_dict[\"1\"][\"ptm\"] = np.kron(return_ptm(apply_mcphase_theta, m, params={\"theta\": np.pi/2}), return_ptm(apply_mcphase_theta, m_prime, params={\"theta\": np.pi/2}))"
   ]
  },
  {
   "cell_type": "markdown",
   "metadata": {},
   "source": [
    "2. $\\mathcal{R}_Z(-\\pi/2) \\otimes \\mathcal{R}_Z(-\\pi/2)$"
   ]
  },
  {
   "cell_type": "code",
   "execution_count": 22,
   "metadata": {},
   "outputs": [],
   "source": [
    "deco_dict[\"2\"] = {}\n",
    "deco_dict[\"2\"][\"q\"] = 1/2\n",
    "deco_dict[\"2\"][\"ptm\"]  = np.kron(return_ptm(apply_mcphase_theta, m, params={\"theta\": -np.pi/2}), return_ptm(apply_mcphase_theta, m_prime, params={\"theta\": -np.pi/2}))"
   ]
  },
  {
   "cell_type": "markdown",
   "metadata": {},
   "source": [
    "3. $\\mathcal{\\overline{E}}_Z \\otimes \\mathcal{I}$"
   ]
  },
  {
   "cell_type": "code",
   "execution_count": null,
   "metadata": {},
   "outputs": [],
   "source": [
    "def apply_measure_and_prepare_z(op: np.ndarray, params=None):\n",
    "    if op.shape[1] != 2:\n",
    "        raise ValueError(\"Matrix shape error: the matrix should be 2x2\")\n",
    "    rho_0 = np.array([[1, 0], [0, 0]])\n",
    "    rho_1 = np.array([[0, 0], [0, 1]])\n",
    "    return rho_0*np.trace(rho_0@op) - rho_1*np.trace(rho_1@op)\n",
    "    "
   ]
  },
  {
   "cell_type": "code",
   "execution_count": 24,
   "metadata": {},
   "outputs": [],
   "source": [
    "deco_dict[\"3\"] = {}\n",
    "deco_dict[\"3\"][\"q\"] = 1/2\n",
    "deco_dict[\"3\"][\"ptm\"] = np.kron(return_ptm(apply_measure_and_prepare_z, m, params=None), return_ptm(apply_mcphase_theta, m_prime, params={\"theta\": 2*np.pi}))"
   ]
  },
  {
   "cell_type": "markdown",
   "metadata": {},
   "source": [
    "4. $\\mathcal{\\overline{E}}_Z\\otimes \\mathcal{R}_Z(\\pi)$"
   ]
  },
  {
   "cell_type": "code",
   "execution_count": 25,
   "metadata": {},
   "outputs": [],
   "source": [
    "deco_dict[\"4\"] = {} \n",
    "deco_dict[\"4\"][\"q\"] = -1/2\n",
    "deco_dict[\"4\"][\"ptm\"] = np.kron(return_ptm(apply_measure_and_prepare_z, m, params=None), return_ptm(apply_mcphase_theta, m_prime, params={\"theta\": np.pi}))"
   ]
  },
  {
   "cell_type": "markdown",
   "metadata": {},
   "source": [
    "5. $\\mathcal{I} \\otimes \\mathcal{\\overline{E}}_Z$"
   ]
  },
  {
   "cell_type": "code",
   "execution_count": 26,
   "metadata": {},
   "outputs": [],
   "source": [
    "deco_dict[\"5\"] = {}\n",
    "deco_dict[\"5\"][\"q\"] = 1/2\n",
    "deco_dict[\"5\"][\"ptm\"] = np.kron(return_ptm(apply_mcphase_theta, m, params={\"theta\": 2*np.pi}), return_ptm(apply_measure_and_prepare_z, m, params=None))"
   ]
  },
  {
   "cell_type": "markdown",
   "metadata": {},
   "source": [
    "6. $\\mathcal{R}_Z(\\pi)\\otimes \\mathcal{\\overline{E}}_Z$"
   ]
  },
  {
   "cell_type": "code",
   "execution_count": 27,
   "metadata": {},
   "outputs": [],
   "source": [
    "deco_dict[\"6\"] = {}\n",
    "deco_dict[\"6\"][\"q\"] = -1/2\n",
    "deco_dict[\"6\"][\"ptm\"] =  np.kron(return_ptm(apply_mcphase_theta, m, params={\"theta\": np.pi}), return_ptm(apply_measure_and_prepare_z, m, params=None))"
   ]
  },
  {
   "cell_type": "code",
   "execution_count": 28,
   "metadata": {},
   "outputs": [],
   "source": [
    "cut = sum([deco_dict[key][\"q\"]*deco_dict[key][\"ptm\"] for key in deco_dict.keys()])"
   ]
  },
  {
   "cell_type": "code",
   "execution_count": 29,
   "metadata": {},
   "outputs": [
    {
     "data": {
      "text/plain": [
       "np.float64(4.440892098500626e-16)"
      ]
     },
     "execution_count": 29,
     "metadata": {},
     "output_type": "execute_result"
    }
   ],
   "source": [
    "np.max(np.abs(target_ptm_cz - cut))"
   ]
  },
  {
   "cell_type": "markdown",
   "metadata": {},
   "source": [
    "which shows that the decomposition is correct!"
   ]
  },
  {
   "cell_type": "markdown",
   "metadata": {},
   "source": []
  }
 ],
 "metadata": {
  "kernelspec": {
   "display_name": "base",
   "language": "python",
   "name": "python3"
  },
  "language_info": {
   "codemirror_mode": {
    "name": "ipython",
    "version": 3
   },
   "file_extension": ".py",
   "mimetype": "text/x-python",
   "name": "python",
   "nbconvert_exporter": "python",
   "pygments_lexer": "ipython3",
   "version": "3.12.8"
  }
 },
 "nbformat": 4,
 "nbformat_minor": 2
}
